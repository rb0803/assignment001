{
 "cells": [
  {
   "cell_type": "markdown",
   "id": "b681aebe",
   "metadata": {},
   "source": [
    "## Question 003"
   ]
  },
  {
   "cell_type": "code",
   "execution_count": 25,
   "id": "29a3df06",
   "metadata": {},
   "outputs": [
    {
     "name": "stdout",
     "output_type": "stream",
     "text": [
      "As a term, data analytics predominantly refers to an assortment of applications, from basic \n",
      "business intelligence (BI), reporting and online analytical processing (OLAP) to various forms of \n",
      "advanced analytics. In that sense, it's similar in nature to business analytics, another umbrella \n",
      "term for approaches to analyzing data -- with the difference that the latter is oriented to \n",
      "business uses, while data analytics has a broader focus. The expansive view of the term isn't \n",
      "universal, though: In some cases, people use data analytics specifically to mean advanced \n",
      "analytics, treating BI as a separate category. Data analytics initiatives can help businesses \n",
      "increase revenues, improve operational efficiency, optimize marketing campaigns and customer \n",
      "service efforts, respond more quickly to emerging market trends and gain a competitive edge \n",
      "over rivals -- all with the ultimate goal of boosting business performance. Depending on the \n",
      "particular application, the data that's analyzed can consist of either historical records or new \n",
      "information that has been processed for real-time analytics uses. In addition, it can come from a \n",
      "mix of internal systems and external data sources. At a high level, data analytics methodologies \n",
      "include exploratory data analysis (EDA), which aims to find patterns and relationships in data, \n",
      "and confirmatory data analysis (CDA), which applies statistical techniques to determine whether \n",
      "hypotheses about a data set are true or false. EDA is often compared to detective work, while \n",
      "CDA is akin to the work of a judge or jury during a court trial -- a distinction first drawn by \n",
      "statistician John W. Tukey in his 1977 book Exploratory Data Analysis. Data analytics can also \n",
      "be separated into quantitative data analysis and qualitative data analysis. The former involves \n",
      "analysis of numerical data with quantifiable variables that can be compared or measured \n",
      "statistically. The qualitative approach is more interpretive -- it focuses on understanding the \n",
      "content of non-numerical data like text, images, audio and video, including common phrases, \n",
      "themes and points of view.\n"
     ]
    }
   ],
   "source": [
    "paragraph = '''As a term, data analytics predominantly refers to an assortment of applications, from basic \\nbusiness intelligence (BI), reporting and online analytical processing (OLAP) to various forms of \\nadvanced analytics. In that sense, it's similar in nature to business analytics, another umbrella \\nterm for approaches to analyzing data -- with the difference that the latter is oriented to \\nbusiness uses, while data analytics has a broader focus. The expansive view of the term isn't \\nuniversal, though: In some cases, people use data analytics specifically to mean advanced \\nanalytics, treating BI as a separate category. Data analytics initiatives can help businesses \\nincrease revenues, improve operational efficiency, optimize marketing campaigns and customer \\nservice efforts, respond more quickly to emerging market trends and gain a competitive edge \\nover rivals -- all with the ultimate goal of boosting business performance. Depending on the \\nparticular application, the data that's analyzed can consist of either historical records or new \\ninformation that has been processed for real-time analytics uses. In addition, it can come from a \\nmix of internal systems and external data sources. At a high level, data analytics methodologies \\ninclude exploratory data analysis (EDA), which aims to find patterns and relationships in data, \\nand confirmatory data analysis (CDA), which applies statistical techniques to determine whether \\nhypotheses about a data set are true or false. EDA is often compared to detective work, while \\nCDA is akin to the work of a judge or jury during a court trial -- a distinction first drawn by \\nstatistician John W. Tukey in his 1977 book Exploratory Data Analysis. Data analytics can also \\nbe separated into quantitative data analysis and qualitative data analysis. The former involves \\nanalysis of numerical data with quantifiable variables that can be compared or measured \\nstatistically. The qualitative approach is more interpretive -- it focuses on understanding the \\ncontent of non-numerical data like text, images, audio and video, including common phrases, \\nthemes and points of view.'''\n",
    "print(paragraph)"
   ]
  },
  {
   "cell_type": "code",
   "execution_count": 28,
   "id": "2ffb2e74",
   "metadata": {},
   "outputs": [
    {
     "name": "stdout",
     "output_type": "stream",
     "text": [
      "Total number of lines: 23\n",
      "Number of lines with the word 'data': 14\n",
      "Probability of the word 'data' occurring in each line: 0.6086956521739131\n"
     ]
    }
   ],
   "source": [
    "paragraph = paragraph.lower()  # standardize wordings\n",
    "lines = paragraph.split(\"\\n\")  # split paragraph into lines\n",
    "lines_count = len(lines)\n",
    "word_to_find = \"data\"\n",
    "\n",
    "lines_with_word = sum(1 for line in lines if word_to_find in line)\n",
    "prob_of_word_in_each_line = lines_with_word / lines_count\n",
    "\n",
    "print(f\"Total number of lines: {lines_count}\")\n",
    "print(f\"Number of lines with the word '{word_to_find}': {lines_with_word}\")\n",
    "print(f\"Probability of the word '{word_to_find}' occurring in each line: {prob_of_word_in_each_line}\")"
   ]
  },
  {
   "cell_type": "markdown",
   "id": "5627becc",
   "metadata": {},
   "source": [
    "## Summary\n",
    "- The results show that out of the 23 lines in the paragraph, the word 'data' appears in 14 of them\n",
    "- Therefore, the probability of the word 'data' occurring in each line is approximately 0.6087 or 60.87%"
   ]
  },
  {
   "cell_type": "code",
   "execution_count": 32,
   "id": "6215a19b",
   "metadata": {},
   "outputs": [
    {
     "name": "stdout",
     "output_type": "stream",
     "text": [
      "Distribution of distinct word counts across all the lines:\n",
      "Word count: 14, Frequency: 8\n",
      "Word count: 13, Frequency: 6\n",
      "Word count: 15, Frequency: 1\n",
      "Word count: 10, Frequency: 1\n",
      "Word count: 16, Frequency: 1\n",
      "Word count: 12, Frequency: 3\n",
      "Word count: 17, Frequency: 1\n",
      "Word count: 19, Frequency: 1\n",
      "Word count: 5, Frequency: 1\n"
     ]
    }
   ],
   "source": [
    "from collections import Counter\n",
    "paragraph = paragraph.lower()  # standardize wordings\n",
    "lines = paragraph.split(\"\\n\")  # split paragraph into lines\n",
    "word_counts = Counter()\n",
    "\n",
    "for line_number, line in enumerate(lines, start=1):\n",
    "    words = line.split()\n",
    "    distinct_word_count = len(set(words))\n",
    "    word_counts[distinct_word_count] += 1\n",
    "\n",
    "print(\"Distribution of distinct word counts across all the lines:\")\n",
    "for count, frequency in word_counts.items():\n",
    "    print(f\"Word count: {count}, Frequency: {frequency}\")\n"
   ]
  },
  {
   "cell_type": "markdown",
   "id": "5a903c5f",
   "metadata": {},
   "source": [
    "## Summary\n",
    "- The distribution results indicate the number of lines that have distinct word counts\n",
    "- The word count represents the number of distinct words in a line, while the frequency shows how many lines have that specific word count\n",
    "- For example, there are 8 lines that have 14 distinct words, 6 lines with 13 distinct words and so on"
   ]
  },
  {
   "cell_type": "code",
   "execution_count": 41,
   "id": "2d31e065",
   "metadata": {},
   "outputs": [
    {
     "name": "stdout",
     "output_type": "stream",
     "text": [
      "Number of word 'data analytics': 6\n",
      "Number of word 'data': 18\n",
      "Probability of the word 'analytics' occurring after the word 'data': 0.3333333333333333\n"
     ]
    }
   ],
   "source": [
    "import re\n",
    "paragraph = paragraph.lower()  # standardize wordings\n",
    "words = re.findall(r'\\b\\w+\\b', paragraph)  # extract words from the paragraph\n",
    "\n",
    "word_pairs = zip(words, words[1:])  # create pairs of consecutive words\n",
    "pair_count = sum(1 for pair in word_pairs if pair == ('data', 'analytics'))\n",
    "total_count_data = sum(1 for word in words if word == 'data' or word == 'data,')\n",
    "probability_with_data = pair_count / total_count_data\n",
    "\n",
    "print(f\"Number of word 'data analytics': {pair_count}\")\n",
    "print(f\"Number of word 'data': {total_count_data}\")\n",
    "print(f\"Probability of the word 'analytics' occurring after the word 'data': {probability_with_data}\")\n"
   ]
  },
  {
   "cell_type": "markdown",
   "id": "512fd153",
   "metadata": {},
   "source": [
    "## Summary\n",
    "- Result shows that ther are 18 occurrences of the word \"data\" in the paragraph\n",
    "- The word \"analytics\" appears immediately after \"data\" in 6 instances\n",
    "- Therefore, the probability of the word \"analytics\" occurring after the word \"data\" is approximately 0.3333 or 33.33%"
   ]
  },
  {
   "cell_type": "code",
   "execution_count": null,
   "id": "65fb9959",
   "metadata": {},
   "outputs": [],
   "source": []
  }
 ],
 "metadata": {
  "kernelspec": {
   "display_name": "Python 3 (ipykernel)",
   "language": "python",
   "name": "python3"
  },
  "language_info": {
   "codemirror_mode": {
    "name": "ipython",
    "version": 3
   },
   "file_extension": ".py",
   "mimetype": "text/x-python",
   "name": "python",
   "nbconvert_exporter": "python",
   "pygments_lexer": "ipython3",
   "version": "3.10.9"
  }
 },
 "nbformat": 4,
 "nbformat_minor": 5
}
